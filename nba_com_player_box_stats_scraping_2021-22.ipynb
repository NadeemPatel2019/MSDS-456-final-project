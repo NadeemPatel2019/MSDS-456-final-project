{
 "cells": [
  {
   "cell_type": "code",
   "execution_count": null,
   "id": "4fabe4ba",
   "metadata": {},
   "outputs": [],
   "source": [
    "# libraries to use\n",
    "import requests\n",
    "import pandas as pd\n",
    "import json\n",
    "import io\n",
    "import itertools\n",
    "import datetime\n",
    "import numpy as np\n",
    "import math"
   ]
  },
  {
   "cell_type": "code",
   "execution_count": null,
   "id": "5d9b32e9",
   "metadata": {},
   "outputs": [],
   "source": [
    "# use these headers for every request to NBA.com\n",
    "headers  = {\n",
    "    'Connection': 'keep-alive',\n",
    "    'Accept': 'application/json, text/plain, */*',\n",
    "    'x-nba-stats-token': 'true',\n",
    "    'User-Agent': 'Mozilla/5.0 (Macintosh; Intel Mac OS X 10_14_6) AppleWebKit/537.36 (KHTML, like Gecko) Chrome/79.0.3945.130 Safari/537.36',\n",
    "    'x-nba-stats-origin': 'stats',\n",
    "    'Sec-Fetch-Site': 'same-origin',\n",
    "    'Sec-Fetch-Mode': 'cors',\n",
    "    'Referer': 'https://stats.nba.com/',\n",
    "    'Accept-Encoding': 'gzip, deflate, br',\n",
    "    'Accept-Language': 'en-US,en;q=0.9',\n",
    "}"
   ]
  },
  {
   "cell_type": "code",
   "execution_count": null,
   "id": "87d19d2d",
   "metadata": {},
   "outputs": [],
   "source": [
    "Season='2021-22'\n",
    "PerMode='Totals'\n",
    "\n",
    "# make a list of NBA measure types to loop through for a player\n",
    "MeasureTypes = [\n",
    "    'Base',\n",
    "    'Advanced',\n",
    "    'Misc',\n",
    "    'Scoring',\n",
    "    'Usage'\n",
    "]\n",
    "\n",
    "# make a list of NBA seasons to loop through later\n",
    "season_list = [\n",
    "    '1996-97',\n",
    "    '1997-98',\n",
    "    '1998-99',\n",
    "    '1999-00',\n",
    "    '2000-01',\n",
    "    '2001-02',\n",
    "    '2002-03',\n",
    "    '2003-04',\n",
    "    '2004-05',\n",
    "    '2005-06',\n",
    "    '2006-07',\n",
    "    '2007-08',\n",
    "    '2008-09',\n",
    "    '2009-10',\n",
    "    '2010-11',\n",
    "    '2011-12',\n",
    "    '2012-13',\n",
    "    '2013-14',\n",
    "    '2014-15',\n",
    "    '2015-16',\n",
    "    '2016-17',\n",
    "    '2017-18',\n",
    "    '2018-19',\n",
    "    '2019-20',\n",
    "    '2020-21',\n",
    "    '2021-22',\n",
    "    '2022-23',\n",
    "]\n",
    "\n",
    "team_abbrev = ['BOS', 'GSW', 'DET', 'WAS', 'ATL', 'NOP', 'CHI', 'TOR', 'MEM',\n",
    "       'MIN', 'CHA', 'UTA', 'PHX', 'POR', 'MIL', 'LAC', 'SAS', 'BKN',\n",
    "       'NYK', 'DEN', 'IND', 'MIA', 'CLE', 'DAL', 'PHI', 'HOU', 'OKC',\n",
    "       'ORL', 'SAC', 'LAL']"
   ]
  },
  {
   "cell_type": "code",
   "execution_count": null,
   "id": "9b8010ce",
   "metadata": {},
   "outputs": [],
   "source": [
    "# get general (Measure=Base) player total stats (PerMode=Totals) for 2021-22 season (Season=2021-22) - example URL request\n",
    "# get PLAYER_ID, PLAYER_NAME, GP, MIN\n",
    "players_stats_url = 'https://stats.nba.com/stats/leaguedashplayerstats?College=&Conference=&Country=&DateFrom=&DateTo=&Division=&DraftPick=&DraftYear=&GameScope=&GameSegment=&Height=&LastNGames=0&LeagueID=00&Location=&MeasureType=Base&Month=0&OpponentTeamID=0&Outcome=&PORound=0&PaceAdjust=N&PerMode='+PerMode+'&Period=0&PlayerExperience=&PlayerPosition=&PlusMinus=N&Rank=N&Season='+Season+'&SeasonSegment=&SeasonType=Regular+Season&ShotClockRange=&StarterBench=&TeamID=0&TwoWay=0&VsConference=&VsDivision=&Weight='\n",
    "players_stats_response = requests.get(url=players_stats_url, headers=headers).json()\n",
    "players_stats_headers = players_stats_response['resultSets'][0]['headers']\n",
    "players_stats_data = players_stats_response['resultSets'][0]['rowSet']\n",
    "players_stats_df = pd.DataFrame(data=players_stats_data, columns=players_stats_headers)"
   ]
  },
  {
   "cell_type": "code",
   "execution_count": null,
   "id": "fa7227b8",
   "metadata": {},
   "outputs": [],
   "source": [
    "player_ids_2021_22 = players_stats_df[['PLAYER_ID', 'PLAYER_NAME','GP','MIN']]\n",
    "player_ids_2021_22"
   ]
  },
  {
   "cell_type": "code",
   "execution_count": null,
   "id": "09d3206a",
   "metadata": {},
   "outputs": [],
   "source": [
    "mpg_list = []\n",
    "\n",
    "for x in range(0, player_ids_2021_22.shape[0]):\n",
    "    mpg = player_ids_2021_22.iloc[x]['MIN']/player_ids_2021_22.iloc[x]['GP']\n",
    "    mpg_list.append(round(mpg,1))\n",
    "\n",
    "player_ids_2021_22.loc[:,'MPG'] = mpg_list"
   ]
  },
  {
   "cell_type": "code",
   "execution_count": null,
   "id": "410e1356",
   "metadata": {},
   "outputs": [],
   "source": [
    "player_ids_2021_22"
   ]
  },
  {
   "cell_type": "code",
   "execution_count": null,
   "id": "2ca0988c",
   "metadata": {},
   "outputs": [],
   "source": [
    "high_mpg_players_2021_22_df = player_ids_2021_22.loc[(player_ids_2021_22['MIN'] >= 500) & (player_ids_2021_22['MPG'] >= 30)]"
   ]
  },
  {
   "cell_type": "code",
   "execution_count": null,
   "id": "21bbd875",
   "metadata": {},
   "outputs": [],
   "source": [
    "high_mpg_players_2021_22_df"
   ]
  },
  {
   "cell_type": "code",
   "execution_count": null,
   "id": "909fc360",
   "metadata": {},
   "outputs": [],
   "source": [
    "high_mpg_players_2021_22_df.to_csv('players_mpg_2021_22_30mpg.csv', index=False)"
   ]
  },
  {
   "cell_type": "code",
   "execution_count": null,
   "id": "eb4a377c",
   "metadata": {},
   "outputs": [],
   "source": [
    "# example NBA.com 2021-21 (Season=2021-22) players bio (https://stats.nba.com/stats/leaguedashplayerbiostats):\n",
    "# use for AGE, PLAYER_HEIGHT_INCHES, PLAYER_WEIGHT\n",
    "plyrs_bio_url = 'https://stats.nba.com/stats/leaguedashplayerbiostats?College=&Conference=&Country=&DateFrom=&DateTo=&Division=&DraftPick=&DraftYear=&GameScope=&GameSegment=&Height=&LastNGames=0&LeagueID=00&Location=&Month=0&OpponentTeamID=0&Outcome=&PORound=0&PerMode=PerGame&Period=0&PlayerExperience=&PlayerPosition=&Season='+Season+'&SeasonSegment=&SeasonType=Regular%20Season&ShotClockRange=&StarterBench=&TeamID=0&VsConference=&VsDivision=&Weight='\n",
    "plyrs_bio_response = requests.get(url=plyrs_bio_url, headers=headers).json()\n",
    "plyrs_bio_headers = plyrs_bio_response['resultSets'][0]['headers']\n",
    "plyrs_bio_data = plyrs_bio_response['resultSets'][0]['rowSet']\n",
    "plyrs_bio_df = pd.DataFrame(data=plyrs_bio_data, columns=plyrs_bio_headers)\n",
    "plyrs_bio_headers"
   ]
  },
  {
   "cell_type": "code",
   "execution_count": null,
   "id": "bd269f58",
   "metadata": {},
   "outputs": [],
   "source": [
    "# example NBA.com 2021-21 (Season=2021-22) player index (https://stats.nba.com/stats/playergamelogs/playerindex):\n",
    "# do we need anything...? Just get from bio?\n",
    "plyrs_idx_url = 'https://stats.nba.com/stats/playerindex?College=&Country=&DraftPick=&DraftRound=&DraftYear=&Height=&Historical=1&LeagueID=00&Season='+Season+'&SeasonType=Regular%20Season&TeamID=0&Weight='\n",
    "plyrs_idx_response = requests.get(url=plyrs_idx_url, headers=headers).json()\n",
    "plyrs_idx_headers = plyrs_idx_response['resultSets'][0]['headers']\n",
    "plyrs_idx_data = plyrs_idx_response['resultSets'][0]['rowSet']\n",
    "plyrs_idx_df = pd.DataFrame(data=plyrs_idx_data, columns=plyrs_idx_headers)\n",
    "plyrs_idx_headers"
   ]
  },
  {
   "cell_type": "code",
   "execution_count": null,
   "id": "6c608bf8",
   "metadata": {},
   "outputs": [],
   "source": [
    "# PlayerID = 2544 # leBron James\n",
    "# PlayerID = 202695 # kawhi leoard - lots of time off\n",
    "# PlayerID = 201935 # James Harden - had 2021-22 trade BRK -> PHI\n",
    "PlayerID = 1629029 # Luka Doncic"
   ]
  },
  {
   "cell_type": "code",
   "execution_count": null,
   "id": "cbda4d47",
   "metadata": {},
   "outputs": [],
   "source": [
    "# get game logs for PlayerID from NBA.com (MeasureType=Base,Advanced,Misc,Scoring,Usage)\n",
    "def get_game_logs_df(PlayerID, MeasureType, Season, PerMode):\n",
    "    glogs_url = 'https://stats.nba.com/stats/playergamelogs?DateFrom=&DateTo=&GameSegment=&LastNGames=0&LeagueID=00&Location=&MeasureType='+MeasureType+'&Month=0&OppTeamID=0&OpponentTeamID=0&Outcome=&PORound=0&PaceAdjust=N&PerMode='+PerMode+'&Period=0&PlayerID='+str(PlayerID)+'&PlusMinus=N&Rank=N&Season='+Season+'&SeasonSegment=&SeasonType=Regular%20Season&ShotClockRange=&TeamID=&VsConference=&VsDivision='\n",
    "    glogs_response = requests.get(url=glogs_url, headers=headers).json()\n",
    "    glogs_headers = glogs_response['resultSets'][0]['headers']\n",
    "    glogs_data = glogs_response['resultSets'][0]['rowSet']\n",
    "    glogs_df = pd.DataFrame(data=glogs_data, columns=glogs_headers)\n",
    "    return glogs_df"
   ]
  },
  {
   "cell_type": "code",
   "execution_count": null,
   "id": "a3bc6460",
   "metadata": {},
   "outputs": [],
   "source": [
    "# get player game logs for PlayerID from NBA.com for all measure types (MeasureType=Base,Advanced,Misc,Scoring,Usage)\n",
    "# PlayerID = 1629029 # Luka Doncic\n",
    "# Season='2021-22'\n",
    "# PerMode='Totals'\n",
    "plyr_base_df = get_game_logs_df(PlayerID,'Base',Season, PerMode)\n",
    "plyr_advanced_df = get_game_logs_df(PlayerID,'Advanced',Season, PerMode)\n",
    "plyr_misc_df = get_game_logs_df(PlayerID,'Misc',Season, PerMode)\n",
    "plyr_scor_df = get_game_logs_df(PlayerID,'Scoring',Season, PerMode)\n",
    "plyr_usage_df = get_game_logs_df(PlayerID,'Usage',Season, PerMode)"
   ]
  },
  {
   "cell_type": "code",
   "execution_count": null,
   "id": "ef8cf5db",
   "metadata": {},
   "outputs": [],
   "source": [
    "# get subset of attributes from each game log measure\n",
    "\n",
    "plyr_base_headers_subset = ['SEASON_YEAR',\n",
    " 'PLAYER_ID',\n",
    " 'PLAYER_NAME',\n",
    " 'TEAM_ID',\n",
    " 'TEAM_ABBREVIATION',\n",
    " 'TEAM_NAME',\n",
    " 'GAME_ID',\n",
    " 'GAME_DATE',\n",
    " 'MATCHUP',\n",
    " 'WL',\n",
    " 'MIN',\n",
    " 'FGM',\n",
    " 'FGA',\n",
    " 'FG3M',\n",
    " 'FG3A',\n",
    " 'FTM',\n",
    " 'FTA',\n",
    " 'OREB',\n",
    " 'DREB',\n",
    " 'AST',\n",
    " 'TOV',\n",
    " 'STL',\n",
    " 'BLK',\n",
    " 'PF',\n",
    " 'PFD',\n",
    " 'PTS']\n",
    "\n",
    "plyr_advanced_headers_subset = ['USG_PCT',\n",
    " 'PIE',\n",
    " 'POSS']\n",
    "\n",
    "plyr_misc_headers_subset= [ 'PTS_PAINT']\n",
    "\n",
    "plyr_scor_headers_subset = ['PCT_PTS_2PT_MR']\n",
    "\n",
    "plyr_base_df_subset = plyr_base_df[plyr_base_headers_subset]\n",
    "plyr_advanced_df_subset = plyr_advanced_df[plyr_advanced_headers_subset]\n",
    "plyr_misc_df_subset = plyr_misc_df[plyr_misc_headers_subset]\n",
    "plyr_scor_df_subset = plyr_scor_df[plyr_scor_headers_subset]"
   ]
  },
  {
   "cell_type": "code",
   "execution_count": null,
   "id": "d52a6601",
   "metadata": {},
   "outputs": [],
   "source": [
    "# put all game log subsets for player into one dataframe\n",
    "plyr_box_stats_df = pd.concat([plyr_base_df_subset, \n",
    "                               plyr_advanced_df_subset, \n",
    "                               plyr_misc_df_subset, \n",
    "                               plyr_scor_df_subset], axis=1)\n",
    "\n",
    "num_box_stats = plyr_box_stats_df.shape[0]\n",
    "\n",
    "player_bio = plyrs_bio_df.loc[plyrs_bio_df['PLAYER_ID'] == PlayerID]\n",
    "\n",
    "# cannot find player birthday info on NBA.com\n",
    "# subtract age by one when going back single NBA season; this is the work-around for now\n",
    "# As of 3/2/2023: for 2021-22 season, substract 1 from age at NBA.com\n",
    "player_age = [int(player_bio.iloc[0]['AGE'])-1] * num_box_stats\n",
    "plyr_box_stats_df['AGE'] = player_age\n",
    "\n",
    "player_height = [player_bio.iloc[0]['PLAYER_HEIGHT_INCHES']] * num_box_stats\n",
    "plyr_box_stats_df['PLAYER_HEIGHT_INCHES'] = player_height\n",
    "\n",
    "player_weight = [player_bio.iloc[0]['PLAYER_WEIGHT']] * num_box_stats\n",
    "plyr_box_stats_df['PLAYER_WEIGHT'] = player_weight"
   ]
  },
  {
   "cell_type": "code",
   "execution_count": null,
   "id": "59976292",
   "metadata": {},
   "outputs": [],
   "source": [
    "# calculate field goals made mid-range and in the paint\n",
    "fg_attr = ['FGM','FGA','FG3M','FG3A','FTM','FTA','PTS','PTS_PAINT','PCT_PTS_2PT_MR']\n",
    "\n",
    "fgm_paint_list = []\n",
    "fgm_mr_list = []\n",
    "for x in range(0, num_box_stats):\n",
    "    game_stats = plyr_box_stats_df.iloc[x][fg_attr]\n",
    "    fgm_paint = game_stats['PTS_PAINT']/2\n",
    "    fgm_2p = game_stats['FGM'] - game_stats['FG3M']\n",
    "    fgm_mr = fgm_2p - fgm_paint\n",
    "    fgm_paint_list.append(int(fgm_paint))\n",
    "    fgm_mr_list.append(int(fgm_mr))\n",
    "\n",
    "# note: cannot find 2PT Mid-range FG attempts in player box scores at NBA.com;\n",
    "# will use 2PT mid-range and in-the-paint made FG for now\n",
    "plyr_box_stats_df['FGM_PAINT'] = fgm_paint_list\n",
    "plyr_box_stats_df['FGM_2PT_MR'] = fgm_mr_list\n"
   ]
  },
  {
   "cell_type": "code",
   "execution_count": null,
   "id": "1906abc0",
   "metadata": {},
   "outputs": [],
   "source": [
    "plyr_box_stats_df"
   ]
  },
  {
   "cell_type": "code",
   "execution_count": null,
   "id": "21d91ce2",
   "metadata": {},
   "outputs": [],
   "source": [
    "game_dates = plyr_box_stats_df['GAME_DATE'].values.tolist()\n",
    "game_dates_obj = [datetime.datetime.strptime(date, '%Y-%m-%dT%H:%M:%S') for date in game_dates]\n",
    "# add converted python GAME_DATE_OBJ datetime64 object to plyr_box_stats_df\n",
    "plyr_box_stats_df.loc[:,'GAME_DATE_OBJ']  = game_dates_obj"
   ]
  },
  {
   "cell_type": "code",
   "execution_count": null,
   "id": "6e03648c",
   "metadata": {},
   "outputs": [],
   "source": [
    "plyr_box_stats_df"
   ]
  },
  {
   "cell_type": "code",
   "execution_count": null,
   "id": "d6dc4cc4",
   "metadata": {},
   "outputs": [],
   "source": [
    "def get_games_past_week(this_game, plyr_box_stats_df):\n",
    "    # for a given game_date find the week period before\n",
    "    game_date_str = this_game['GAME_DATE']\n",
    "    # parse game_date into python date object\n",
    "    game_date = datetime.datetime.strptime(game_date_str, '%Y-%m-%dT%H:%M:%S')\n",
    "    time_delta_yesterday = datetime.timedelta(days = 1)\n",
    "    time_delta_week_ago = datetime.timedelta(days = 7)\n",
    "    date_yesterday = game_date - time_delta_yesterday\n",
    "    date_week_ago = game_date - time_delta_week_ago\n",
    "\n",
    "    # convert game_date to python date objects\n",
    "    game_dates = plyr_box_stats_df['GAME_DATE'].values.tolist()\n",
    "    game_dates_obj = [datetime.datetime.strptime(date, '%Y-%m-%dT%H:%M:%S') for date in game_dates]\n",
    "\n",
    "    # create temp df of only game_id and game_date\n",
    "    game_dates_df = plyr_box_stats_df[['GAME_ID','GAME_DATE']]\n",
    "\n",
    "    # add converted python game_date object to temp df\n",
    "    game_dates_df.loc[:,'GAME_DATE_OBJ']  = game_dates_obj\n",
    "    \n",
    "    # find games that lie between date_yesterday and date_week_ago\n",
    "    game_dates_past_week = game_dates_df.loc[(game_dates_df['GAME_DATE_OBJ'] <= date_yesterday) & (game_dates_df['GAME_DATE_OBJ'] >= date_week_ago)]\n",
    "    game_ids_past_week = game_dates_past_week['GAME_ID'].values.tolist()\n",
    "    games_past_week = plyr_box_stats_df.loc[plyr_box_stats_df['GAME_ID'].isin(game_ids_past_week)]\n",
    "    \n",
    "    return games_past_week"
   ]
  },
  {
   "cell_type": "code",
   "execution_count": null,
   "id": "9b1cad08",
   "metadata": {},
   "outputs": [],
   "source": [
    "'''\n",
    "Compile box stats containing stat totals from the past week (7 days before) of game_date for the following: \n",
    "Total minutes played - pw_min\n",
    "Total games played - pw_games\n",
    "2-point field goal attempts - pw_fg2a\n",
    "3-point field goal attempts - pw_gf3a\n",
    "Blocks - pw_blk\n",
    "Rebounds - pw_reb (need offensive/defensive rebounds…?)\n",
    "Personal fouls - pw_pf\n",
    "Assists - pw_ast\n",
    "'''"
   ]
  },
  {
   "cell_type": "code",
   "execution_count": null,
   "id": "23aea1bb",
   "metadata": {},
   "outputs": [],
   "source": [
    "pw_mins = []\n",
    "pw_gamess = []\n",
    "pw_fg3as = []\n",
    "pw_fg2as = []\n",
    "pw_orebs = []\n",
    "pw_drebs = []\n",
    "pw_asts = []\n",
    "pw_tovs = []\n",
    "pw_stls = []\n",
    "pw_blks = []\n",
    "pw_posss = []\n",
    "pw_pfs = []\n",
    "pw_pfds = []\n",
    "pw_fgm_paints = []\n",
    "pw_fgm_2pt_mrs = []\n",
    "pw_pie_avg = []\n",
    "pw_usg_pct_avg = []"
   ]
  },
  {
   "cell_type": "code",
   "execution_count": null,
   "id": "ee13c743",
   "metadata": {},
   "outputs": [],
   "source": [
    "# iterate through all games in player box stats and calculate totals/avgs for games the week before\n",
    "for index, this_game in plyr_box_stats_df.iterrows():\n",
    "    games_week_before_df = get_games_week_before(this_game, plyr_box_stats_df)\n",
    "    pw_min = games_week_before_df['MIN'].sum()\n",
    "    pw_games = games_week_before_df.shape[0]\n",
    "    pw_fg3a = games_week_before_df['FG3A'].sum()\n",
    "    pw_fg2a = games_week_before_df['FGA'].sum() - pw_fg3a\n",
    "    pw_oreb = games_week_before_df['OREB'].sum()\n",
    "    pw_dreb = games_week_before_df['DREB'].sum()\n",
    "    pw_ast = games_week_before_df['AST'].sum()\n",
    "    pw_tov = games_week_before_df['TOV'].sum()\n",
    "    pw_stl = games_week_before_df['STL'].sum()\n",
    "    pw_blk = games_week_before_df['BLK'].sum()\n",
    "    pw_poss = games_week_before_df['POSS'].sum()\n",
    "    pw_pf = games_week_before_df['PF'].sum()\n",
    "    pw_pfd = games_week_before_df['PFD'].sum()\n",
    "    # change paint from pts to fgm\n",
    "    pw_fgm_paint = games_week_before_df['PTS_PAINT'].sum()/2\n",
    "    # change 2pt mr from pts to fgm    \n",
    "\n",
    "    pw_fgm_2p = games_week_before_df['FGM'].sum() - games_week_before_df['FG3M'].sum()\n",
    "    pw_fgm_2pt_mr = pw_fgm_2p - pw_fgm_paint\n",
    "\n",
    "    print(\"PW_FGM: \" + str(games_week_before_df['FGM'].sum()))\n",
    "    print(\"PW_FG3M: \" + str(games_week_before_df['FG3M'].sum()))\n",
    "    print(\"PW_FG2M: \" + str(pw_fgm_2p))\n",
    "    print(\"PW_FG2M_PAINT: \" + str(pw_fgm_paint))\n",
    "    print(\"PW_FGM_2PT_MR: \" + str(pw_fgm_2pt_mr))\n",
    "    print('---')\n",
    "    \n",
    "\n",
    "    pw_pie = games_week_before_df['PIE'].mean()\n",
    "    pw_usg_pct = games_week_before_df['USG_PCT'].mean()\n",
    "    \n",
    "    pw_mins.append(pw_min)\n",
    "    pw_gamess.append(pw_games)\n",
    "    pw_fg3as.append(pw_fg3a)\n",
    "    pw_fg2as.append(pw_fg2a)\n",
    "    pw_orebs.append(pw_oreb)\n",
    "    pw_drebs.append(pw_dreb)\n",
    "    pw_asts.append(pw_ast)\n",
    "    pw_tovs.append(pw_tov)\n",
    "    pw_stls.append(pw_stl)\n",
    "    pw_blks.append(pw_blk)\n",
    "    pw_posss.append(pw_poss)\n",
    "    pw_pfs.append(pw_pf)\n",
    "    pw_pfds.append(pw_pfd)\n",
    "    pw_fgm_paints.append(pw_fgm_paints)\n",
    "    pw_fgm_2pt_mrs.append(pw_fgm_2pt_mrs)\n",
    "    pw_pie_avg.append(pw_pie)\n",
    "    pw_usg_pct_avg.append(pw_usg_pct)"
   ]
  },
  {
   "cell_type": "code",
   "execution_count": null,
   "id": "8d231f92",
   "metadata": {},
   "outputs": [],
   "source": [
    "plyr_box_stats_df.loc[:,'PW_MIN'] = pw_mins\n",
    "plyr_box_stats_df.loc[:,'PW_GAMES'] = pw_gamess\n",
    "plyr_box_stats_df.loc[:,'PW_GAMES'] = pw_gamess\n",
    "plyr_box_stats_df.loc[:,'PW_FG3A'] = pw_fg3as\n",
    "plyr_box_stats_df.loc[:,'PW_FG2A'] = pw_fg2as\n",
    "plyr_box_stats_df.loc[:,'PW_OREB'] = pw_orebs\n",
    "plyr_box_stats_df.loc[:,'PW_DREB'] = pw_drebs\n",
    "plyr_box_stats_df.loc[:,'PW_ASTS'] = pw_asts\n",
    "plyr_box_stats_df.loc[:,'PW_TOV'] = pw_tovs\n",
    "plyr_box_stats_df.loc[:,'PW_STL'] = pw_stls\n",
    "plyr_box_stats_df.loc[:,'PW_BLK'] = pw_blks\n",
    "plyr_box_stats_df.loc[:,'PW_POS'] = pw_posss\n",
    "plyr_box_stats_df.loc[:,'PW_PF'] = pw_pfs\n",
    "plyr_box_stats_df.loc[:,'PW_PFD'] = pw_pfds\n",
    "plyr_box_stats_df.loc[:,'PW_FGM_PAINT'] = pw_fgm_paints\n",
    "plyr_box_stats_df.loc[:,'PW_FGM_2PT_MR'] = pw_fgm_2pt_mrs\n",
    "plyr_box_stats_df.loc[:,'PW_PIE_AVG'] = pw_pie_avg\n",
    "plyr_box_stats_df.loc[:,'PW_USG_PCT_AVG'] = pw_usg_pct_avg\n",
    "\n",
    "# fill na with 0 on past week stats\n",
    "plyr_box_stats_df.loc[:,'PW_PFD'] = plyr_box_stats_df['PW_PFD'].fillna(0)\n",
    "plyr_box_stats_df.loc[:,'PW_PIE_AVG'] = plyr_box_stats_df['PW_PIE_AVG'].fillna(0)\n",
    "plyr_box_stats_df.loc[:,'PW_USG_PCT_AVG'] = plyr_box_stats_df['PW_USG_PCT_AVG'].fillna(0)"
   ]
  },
  {
   "cell_type": "code",
   "execution_count": null,
   "id": "ffec25b1",
   "metadata": {},
   "outputs": [],
   "source": [
    "plyr_box_stats_df"
   ]
  },
  {
   "cell_type": "code",
   "execution_count": null,
   "id": "459790e7",
   "metadata": {},
   "outputs": [],
   "source": []
  },
  {
   "cell_type": "code",
   "execution_count": null,
   "id": "50906793",
   "metadata": {},
   "outputs": [],
   "source": [
    "plyr_box_stats_df.columns"
   ]
  },
  {
   "cell_type": "code",
   "execution_count": null,
   "id": "8f64be26",
   "metadata": {},
   "outputs": [],
   "source": [
    "plyr_box_stats_df.to_csv('Luka_Doncic_1629029_2021_22_game_logs.csv')"
   ]
  },
  {
   "cell_type": "code",
   "execution_count": null,
   "id": "ebe81e86",
   "metadata": {},
   "outputs": [],
   "source": []
  },
  {
   "cell_type": "code",
   "execution_count": null,
   "id": "7bf611df",
   "metadata": {},
   "outputs": [],
   "source": [
    "sch_game_dates_obj = [datetime.datetime.strptime(date, '%Y-%m-%d') for date in sch_game_dates]\n",
    "schedule_df.loc[:,'dateGame_OBJ']  = sch_game_dates_obj"
   ]
  },
  {
   "cell_type": "code",
   "execution_count": null,
   "id": "91ce015b",
   "metadata": {},
   "outputs": [],
   "source": []
  },
  {
   "cell_type": "code",
   "execution_count": null,
   "id": "5b6b2a8a",
   "metadata": {},
   "outputs": [],
   "source": []
  },
  {
   "cell_type": "code",
   "execution_count": null,
   "id": "0f0f7b4d",
   "metadata": {},
   "outputs": [],
   "source": []
  },
  {
   "cell_type": "code",
   "execution_count": null,
   "id": "6710be2a",
   "metadata": {},
   "outputs": [],
   "source": [
    "# to-do: work on injury stats"
   ]
  },
  {
   "cell_type": "code",
   "execution_count": null,
   "id": "0dd68175",
   "metadata": {},
   "outputs": [],
   "source": []
  },
  {
   "cell_type": "code",
   "execution_count": null,
   "id": "f73b9631",
   "metadata": {},
   "outputs": [],
   "source": []
  },
  {
   "cell_type": "code",
   "execution_count": null,
   "id": "0da5fe33",
   "metadata": {},
   "outputs": [],
   "source": [
    "il_data = pd.read_csv('prosportstransactions_scrape_inactivelist_2010_2023.csv')"
   ]
  },
  {
   "cell_type": "code",
   "execution_count": null,
   "id": "4e292404",
   "metadata": {},
   "outputs": [],
   "source": [
    "il_data"
   ]
  },
  {
   "cell_type": "code",
   "execution_count": null,
   "id": "4bdf61c1",
   "metadata": {},
   "outputs": [],
   "source": [
    "# convert Date string into datetime64 object, add it to il dataframe\n",
    "il_dates = il_data['Date'].values.tolist()\n",
    "il_dates_obj = [datetime.datetime.strptime(date, '%m/%d/%Y') for date in il_dates]\n",
    "il_data.loc[:,'Date_OBJ']  = il_dates_obj"
   ]
  },
  {
   "cell_type": "code",
   "execution_count": null,
   "id": "26c37047",
   "metadata": {},
   "outputs": [],
   "source": [
    "il_data"
   ]
  },
  {
   "cell_type": "code",
   "execution_count": null,
   "id": "19ddb92b",
   "metadata": {},
   "outputs": [],
   "source": []
  },
  {
   "cell_type": "code",
   "execution_count": null,
   "id": "1b4b1534",
   "metadata": {},
   "outputs": [],
   "source": []
  },
  {
   "cell_type": "code",
   "execution_count": null,
   "id": "2476de1c",
   "metadata": {},
   "outputs": [],
   "source": []
  },
  {
   "cell_type": "code",
   "execution_count": null,
   "id": "e0d9ba6c",
   "metadata": {},
   "outputs": [],
   "source": []
  },
  {
   "cell_type": "code",
   "execution_count": null,
   "id": "58273e20",
   "metadata": {},
   "outputs": [],
   "source": [
    "mg_data = pd.read_csv('prosportstransactions_scrape_missedgames_2010_2023.csv')"
   ]
  },
  {
   "cell_type": "code",
   "execution_count": null,
   "id": "48be7616",
   "metadata": {},
   "outputs": [],
   "source": [
    "mg_data"
   ]
  },
  {
   "cell_type": "code",
   "execution_count": null,
   "id": "dd8fe0a4",
   "metadata": {},
   "outputs": [],
   "source": [
    "# convert Date string into datetime64 object, add it to mg dataframe\n",
    "mg_dates = mg_data['Date'].values.tolist()\n",
    "mg_dates_obj = [datetime.datetime.strptime(date, '%m/%d/%Y') for date in mg_dates]\n",
    "mg_data.loc[:,'Date_OBJ']  = mg_dates_obj"
   ]
  },
  {
   "cell_type": "code",
   "execution_count": null,
   "id": "10a8ab9e",
   "metadata": {},
   "outputs": [],
   "source": [
    "mg_data"
   ]
  },
  {
   "cell_type": "code",
   "execution_count": null,
   "id": "073d8817",
   "metadata": {},
   "outputs": [],
   "source": []
  },
  {
   "cell_type": "code",
   "execution_count": null,
   "id": "01d80fa6",
   "metadata": {},
   "outputs": [],
   "source": []
  },
  {
   "cell_type": "code",
   "execution_count": null,
   "id": "5682a377",
   "metadata": {},
   "outputs": [],
   "source": []
  },
  {
   "cell_type": "code",
   "execution_count": null,
   "id": "8e406d9f",
   "metadata": {},
   "outputs": [],
   "source": [
    "player_dict = pd.read_csv('df_nba_player_dict.csv')"
   ]
  },
  {
   "cell_type": "code",
   "execution_count": null,
   "id": "c1d6c682",
   "metadata": {},
   "outputs": [],
   "source": [
    "player_dict"
   ]
  },
  {
   "cell_type": "code",
   "execution_count": null,
   "id": "dcbb231c",
   "metadata": {},
   "outputs": [],
   "source": []
  },
  {
   "cell_type": "code",
   "execution_count": null,
   "id": "caaab87d",
   "metadata": {},
   "outputs": [],
   "source": [
    "mg_id = []\n",
    "\n",
    "num_cannot_find = 0\n",
    "\n",
    "for index, row in mg_data.iterrows():\n",
    "    namePlayer = row['Acquired']\n",
    "    if pd.isnull(row['Acquired']):\n",
    "        namePlayer = row['Relinquished']\n",
    "    player = player_dict.loc[player_dict['namePlayer'] == namePlayer]\n",
    "    if (player.empty):\n",
    "        mg_id.append(np.nan)\n",
    "        print('cannot find: ' + str(namePlayer))\n",
    "        num_cannot_find = num_cannot_find + 1\n",
    "    else:\n",
    "        mg_id.append(round(player['idPlayer'].values[0],0))\n",
    "        \n",
    "print('cannot find: ' + str(num_cannot_find))"
   ]
  },
  {
   "cell_type": "code",
   "execution_count": null,
   "id": "20978fde",
   "metadata": {},
   "outputs": [],
   "source": [
    "len(mg_id)"
   ]
  },
  {
   "cell_type": "code",
   "execution_count": null,
   "id": "ddcff7fa",
   "metadata": {},
   "outputs": [],
   "source": []
  },
  {
   "cell_type": "code",
   "execution_count": null,
   "id": "5709d4ec",
   "metadata": {},
   "outputs": [],
   "source": []
  },
  {
   "cell_type": "code",
   "execution_count": null,
   "id": "3335fd61",
   "metadata": {},
   "outputs": [],
   "source": [
    "mg_data.loc[:,'PLAYER_ID'] = mg_id"
   ]
  },
  {
   "cell_type": "code",
   "execution_count": null,
   "id": "2d967b71",
   "metadata": {},
   "outputs": [],
   "source": []
  },
  {
   "cell_type": "code",
   "execution_count": null,
   "id": "f47d0414",
   "metadata": {},
   "outputs": [],
   "source": []
  },
  {
   "cell_type": "code",
   "execution_count": null,
   "id": "53a06033",
   "metadata": {},
   "outputs": [],
   "source": []
  },
  {
   "cell_type": "code",
   "execution_count": null,
   "id": "6927c9ff",
   "metadata": {},
   "outputs": [],
   "source": [
    "il_id = []\n",
    "\n",
    "num_cannot_find = 0\n",
    "\n",
    "for index, row in il_data.iterrows():\n",
    "    namePlayer = row['Acquired']\n",
    "    if pd.isnull(row['Acquired']):\n",
    "        namePlayer = row['Relinquished']\n",
    "    player = player_dict.loc[player_dict['namePlayer'] == namePlayer]\n",
    "    if (player.empty):\n",
    "        il_id.append(np.nan)\n",
    "        print('cannot find: ' + str(namePlayer))\n",
    "        num_cannot_find = num_cannot_find + 1\n",
    "    else:\n",
    "        il_id.append(int(round(player['idPlayer'].values[0],0)))\n",
    "        \n",
    "print('cannot find: ' + str(num_cannot_find))"
   ]
  },
  {
   "cell_type": "code",
   "execution_count": null,
   "id": "2f7ca8b0",
   "metadata": {},
   "outputs": [],
   "source": [
    "il_data.loc[:,'PLAYER_ID'] = il_id"
   ]
  },
  {
   "cell_type": "code",
   "execution_count": null,
   "id": "66d24076",
   "metadata": {},
   "outputs": [],
   "source": []
  },
  {
   "cell_type": "code",
   "execution_count": null,
   "id": "773f0371",
   "metadata": {},
   "outputs": [],
   "source": [
    "len(il_id)\n"
   ]
  },
  {
   "cell_type": "code",
   "execution_count": null,
   "id": "85ea9810",
   "metadata": {},
   "outputs": [],
   "source": []
  },
  {
   "cell_type": "code",
   "execution_count": null,
   "id": "4a87fecb",
   "metadata": {},
   "outputs": [],
   "source": []
  },
  {
   "cell_type": "code",
   "execution_count": null,
   "id": "31516932",
   "metadata": {},
   "outputs": [],
   "source": [
    "il_data.loc[:,'PLAYER_ID'] = il_id\n"
   ]
  },
  {
   "cell_type": "code",
   "execution_count": null,
   "id": "469b0e05",
   "metadata": {},
   "outputs": [],
   "source": [
    "il_data"
   ]
  },
  {
   "cell_type": "code",
   "execution_count": null,
   "id": "7f4a6f0e",
   "metadata": {},
   "outputs": [],
   "source": []
  },
  {
   "cell_type": "code",
   "execution_count": null,
   "id": "e47bd280",
   "metadata": {},
   "outputs": [],
   "source": []
  },
  {
   "cell_type": "code",
   "execution_count": null,
   "id": "978bee82",
   "metadata": {},
   "outputs": [],
   "source": [
    "\n",
    "#player = player_dict.loc[player_dict['namePlayer'] == 'LeBron James']\n",
    "player = player_dict.loc[player_dict['namePlayer'] == 'Luka Doncic']\n",
    "player['idPlayer'].values[0]"
   ]
  },
  {
   "cell_type": "code",
   "execution_count": null,
   "id": "d37a207b",
   "metadata": {},
   "outputs": [],
   "source": []
  },
  {
   "cell_type": "code",
   "execution_count": null,
   "id": "d1484b4f",
   "metadata": {},
   "outputs": [],
   "source": [
    "player_il = il_data.loc[il_data['PLAYER_ID'] == 1629029]\n",
    "player_mg = mg_data.loc[mg_data['PLAYER_ID'] == 1629029]\n"
   ]
  },
  {
   "cell_type": "code",
   "execution_count": null,
   "id": "8b3f3593",
   "metadata": {},
   "outputs": [],
   "source": [
    "player_il"
   ]
  },
  {
   "cell_type": "code",
   "execution_count": null,
   "id": "1c92ca88",
   "metadata": {},
   "outputs": [],
   "source": [
    "player_mg"
   ]
  },
  {
   "cell_type": "code",
   "execution_count": null,
   "id": "516af3aa",
   "metadata": {},
   "outputs": [],
   "source": [
    "len(plyr_box_stats_df)"
   ]
  },
  {
   "cell_type": "code",
   "execution_count": null,
   "id": "877e6203",
   "metadata": {},
   "outputs": [],
   "source": [
    "first_game_season = plyr_box_stats_df.iloc[len(plyr_box_stats_df) - 1]\n",
    "first_game_season_date = first_game_season['GAME_DATE_OBJ']\n",
    "first_game_season_date"
   ]
  },
  {
   "cell_type": "code",
   "execution_count": null,
   "id": "6f360d38",
   "metadata": {},
   "outputs": [],
   "source": [
    "player_mg_before_season = player_mg.loc[player_mg['Date_OBJ'] < first_game_season_date]\n",
    "player_mg_before_season = player_mg_before_season.loc[pd.isnull(player_mg_before_season['Acquired'])]\n",
    "player_mg_before_season"
   ]
  },
  {
   "cell_type": "code",
   "execution_count": null,
   "id": "08c23424",
   "metadata": {},
   "outputs": [],
   "source": [
    "last_mg = player_mg_before_season.iloc[len(player_mg_before_season) - 1]\n",
    "last_mg_date = last_mg['Date_OBJ']\n",
    "last_mg_date"
   ]
  },
  {
   "cell_type": "code",
   "execution_count": null,
   "id": "938f7fab",
   "metadata": {},
   "outputs": [],
   "source": [
    "player_il_before_season = player_il.loc[player_il['Date_OBJ'] < first_game_season_date]\n",
    "player_il_before_season = player_il_before_season.loc[pd.isnull(player_il_before_season['Acquired'])]\n",
    "player_il_before_season"
   ]
  },
  {
   "cell_type": "code",
   "execution_count": null,
   "id": "e7bafc0c",
   "metadata": {},
   "outputs": [],
   "source": [
    "len(player_il_before_season) - 1"
   ]
  },
  {
   "cell_type": "code",
   "execution_count": null,
   "id": "548f1101",
   "metadata": {},
   "outputs": [],
   "source": [
    "last_il = player_il_before_season.iloc[len(player_il_before_season) - 1]\n",
    "last_il_date = last_il['Date_OBJ']\n",
    "last_il_date"
   ]
  },
  {
   "cell_type": "code",
   "execution_count": null,
   "id": "5e1ab02c",
   "metadata": {},
   "outputs": [],
   "source": [
    "last_injury_date = max(last_il_date, last_mg_date)\n",
    "last_injury_date"
   ]
  },
  {
   "cell_type": "code",
   "execution_count": null,
   "id": "6dd2111c",
   "metadata": {},
   "outputs": [],
   "source": [
    "num_career_injuries = len(player_mg_before_season) + len(player_il_before_season)\n",
    "num_career_injuries"
   ]
  },
  {
   "cell_type": "code",
   "execution_count": null,
   "id": "aca56b63",
   "metadata": {},
   "outputs": [],
   "source": []
  },
  {
   "cell_type": "code",
   "execution_count": null,
   "id": "0ccb15c9",
   "metadata": {},
   "outputs": [],
   "source": []
  },
  {
   "cell_type": "code",
   "execution_count": null,
   "id": "0f86bf4a",
   "metadata": {},
   "outputs": [],
   "source": []
  },
  {
   "cell_type": "code",
   "execution_count": null,
   "id": "e77297f3",
   "metadata": {},
   "outputs": [],
   "source": []
  },
  {
   "cell_type": "code",
   "execution_count": null,
   "id": "57608c47",
   "metadata": {},
   "outputs": [],
   "source": []
  },
  {
   "cell_type": "code",
   "execution_count": null,
   "id": "c326b90b",
   "metadata": {},
   "outputs": [],
   "source": [
    "schedule_df = pd.read_csv(\"schedule_2021_22.csv\")"
   ]
  },
  {
   "cell_type": "code",
   "execution_count": null,
   "id": "a7a12764",
   "metadata": {},
   "outputs": [],
   "source": []
  },
  {
   "cell_type": "code",
   "execution_count": null,
   "id": "d265f332",
   "metadata": {},
   "outputs": [],
   "source": []
  },
  {
   "cell_type": "code",
   "execution_count": null,
   "id": "2f338a0f",
   "metadata": {},
   "outputs": [],
   "source": []
  },
  {
   "cell_type": "code",
   "execution_count": null,
   "id": "ddd7bda5",
   "metadata": {},
   "outputs": [],
   "source": []
  },
  {
   "cell_type": "code",
   "execution_count": null,
   "id": "f9692ed4",
   "metadata": {},
   "outputs": [],
   "source": [
    "# convert dateGame string into datetime64 object, add it to schedule dataframe\n",
    "sch_game_dates = schedule_df['dateGame'].values.tolist()\n",
    "sch_game_dates_obj = [datetime.datetime.strptime(date, '%Y-%m-%d') for date in sch_game_dates]\n",
    "schedule_df.loc[:,'dateGame_OBJ']  = sch_game_dates_obj"
   ]
  },
  {
   "cell_type": "code",
   "execution_count": null,
   "id": "c8eae3ae",
   "metadata": {},
   "outputs": [],
   "source": [
    "schedule_df"
   ]
  },
  {
   "cell_type": "code",
   "execution_count": null,
   "id": "6240247c",
   "metadata": {},
   "outputs": [],
   "source": [
    "# make a dictionary of team to list of games played \n",
    "team_dates_dict = {}\n",
    "for team in team_abbrev:\n",
    "    team_games = schedule_df.loc[(schedule_df['slugTeamWinner'] == team) | (schedule_df['slugTeamLoser'] == team)]\n",
    "    team_dates_dict[team]=team_games"
   ]
  },
  {
   "cell_type": "code",
   "execution_count": null,
   "id": "ba8d6d53",
   "metadata": {},
   "outputs": [],
   "source": [
    "team_dates_dict"
   ]
  },
  {
   "cell_type": "code",
   "execution_count": null,
   "id": "d8c39703",
   "metadata": {},
   "outputs": [],
   "source": []
  },
  {
   "cell_type": "code",
   "execution_count": null,
   "id": "5b6845ab",
   "metadata": {},
   "outputs": [],
   "source": []
  },
  {
   "cell_type": "code",
   "execution_count": null,
   "id": "5cff09cb",
   "metadata": {},
   "outputs": [],
   "source": []
  },
  {
   "cell_type": "code",
   "execution_count": null,
   "id": "a65e14a5",
   "metadata": {},
   "outputs": [],
   "source": []
  },
  {
   "cell_type": "code",
   "execution_count": null,
   "id": "202df76c",
   "metadata": {},
   "outputs": [],
   "source": []
  },
  {
   "cell_type": "code",
   "execution_count": null,
   "id": "5f6bb694",
   "metadata": {},
   "outputs": [],
   "source": [
    "plyr_box_stats_df"
   ]
  },
  {
   "cell_type": "code",
   "execution_count": null,
   "id": "b033d39b",
   "metadata": {},
   "outputs": [],
   "source": [
    "plyr_box_stats_df.columns"
   ]
  },
  {
   "cell_type": "code",
   "execution_count": null,
   "id": "921af5fd",
   "metadata": {},
   "outputs": [],
   "source": [
    "plyr_box_stats_df['GAME_DATE_OBJ']"
   ]
  },
  {
   "cell_type": "code",
   "execution_count": null,
   "id": "55990416",
   "metadata": {},
   "outputs": [],
   "source": [
    "player_team_dates = plyr_box_stats_df[['TEAM_ABBREVIATION','GAME_DATE_OBJ']]"
   ]
  },
  {
   "cell_type": "code",
   "execution_count": null,
   "id": "9b347de2",
   "metadata": {},
   "outputs": [],
   "source": [
    "player_teams = player_team_dates['TEAM_ABBREVIATION'].unique()\n",
    "player_teams"
   ]
  },
  {
   "cell_type": "code",
   "execution_count": null,
   "id": "57a7c5b8",
   "metadata": {},
   "outputs": [],
   "source": [
    "team_schedule = team_dates_dict.get('DAL')\n",
    "team_schedule\n"
   ]
  },
  {
   "cell_type": "code",
   "execution_count": null,
   "id": "2906e832",
   "metadata": {},
   "outputs": [],
   "source": [
    "team_dates = team_schedule[]"
   ]
  },
  {
   "cell_type": "code",
   "execution_count": null,
   "id": "5d006849",
   "metadata": {},
   "outputs": [],
   "source": [
    "for team in player_teams:\n",
    "    player_games = plyr_box_stats_df.loc[plyr_box_stats_df['TEAM_ABBREVIATION']==team]\n",
    "    # reverse player_games since team schedule first -> last\n",
    "    player_games.sort_values(by='GAME_DATE_OBJ', ascending=True, inplace = True)\n",
    "    player_dates = player_games['GAME_DATE_OBJ']\n",
    "    max_date = max(player_dates)\n",
    "    min_date = min(player_dates)\n",
    "    team_schedule = team_dates_dict.get(team)\n",
    "    team_dates = team_schedule['dateGame_OBJ']\n",
    "    missed_dates = np.setdiff1d(team_dates,player_dates, assume_unique=False)\n",
    "    team_max_date = max(team_dates)\n",
    "    team_min_date = min(team_dates)\n",
    "    played_schedule = []\n",
    "    for date in team_dates:\n",
    "        if date in missed_dates:\n",
    "            played_schedule.append(False)\n",
    "        else:\n",
    "            played_schedule.append(True)\n",
    "    \n",
    "    # create table of team schedule with player in game\n",
    "    temp_df = pd.DataFrame({'GAME_DATE_OBJ':team_dates,\n",
    "                           'PLAYED_GAME':played_schedule,})\n",
    "    temp_df.reset_index(drop=True, inplace=True)\n",
    "\n",
    "    # create column flagging player out next game\n",
    "    out_next_game = []\n",
    "    for index, current_date in temp_df.iterrows():\n",
    "        if index == len(temp_df) - 1:\n",
    "            out_next_game.append(0)\n",
    "        else:\n",
    "            next_date = temp_df.iloc[index + 1]\n",
    "            if next_date['PLAYED_GAME']:\n",
    "                out_next_game.append(0)\n",
    "            else:\n",
    "                out_next_game.append(1)\n",
    "    temp_df.loc[:,'OUT_NEXT_GAME']  = out_next_game\n",
    "\n",
    "    # get OUT_NEXT_GAME based on player game logs\n",
    "    misc_data = temp_df.loc[temp_df['GAME_DATE_OBJ'].isin(player_dates)]\n",
    "\n",
    "    # calculate days last injury and rolling career injuries during season\n",
    "    days_last_injury = []\n",
    "    date_last_injury = last_injury_date\n",
    "    career_injuries = []\n",
    "    career_injuries_count = num_career_injuries\n",
    "    for idx, row in misc_data.iterrows():\n",
    "        if row['OUT_NEXT_GAME'] == 1:\n",
    "            career_injuries_count = career_injuries_count + 1\n",
    "            date_last_injury = row['GAME_DATE_OBJ']\n",
    "    \n",
    "        time_delta = row['GAME_DATE_OBJ'] - date_last_injury\n",
    "        days_last_injury.append(time_delta.days)\n",
    "        career_injuries.append(career_injuries_count)\n",
    "\n",
    "    misc_data.loc[:,'CAREER_INJURIES'] = career_injuries\n",
    "    misc_data.loc[:,'DAYS_LAST_INJURY'] = days_last_injury\n",
    "        \n",
    "    # reverse the list again because player game logs last -> first\n",
    "    misc_data_rev = misc_data.iloc[::-1]\n",
    "    misc_data_rev.reset_index(drop=True, inplace=True)\n",
    "    \n",
    "    plyr_box_stats_df.loc[:,'OUT_NEXT_GAME'] = misc_data_rev['OUT_NEXT_GAME']\n",
    "    plyr_box_stats_df.loc[:,'CAREER_INJURIES'] = misc_data_rev['CAREER_INJURIES']\n",
    "    plyr_box_stats_df.loc[:,'DAYS_LAST_INJURY'] = misc_data_rev['DAYS_LAST_INJURY']\n",
    "    \n",
    "\n",
    "    # to-do: support for multiple teams for the case player is traded mid-season\n",
    "    # (exmpale: James Harden 2021-22 traded BRK -> PHI)"
   ]
  },
  {
   "cell_type": "code",
   "execution_count": null,
   "id": "a915a3ba",
   "metadata": {},
   "outputs": [],
   "source": [
    "print(plyr_box_stats_df)"
   ]
  },
  {
   "cell_type": "code",
   "execution_count": null,
   "id": "854c429e",
   "metadata": {},
   "outputs": [],
   "source": [
    "for index, xgame in plyr_box_stats_df.iterrows():\n",
    "    game_date = xgame['GAME_DATE_OBJ']\n",
    "    out_next_game = xgame['OUT_NEXT_GAME']\n",
    "    print(\"Date: \"+ str(game_date) + \", out next game: \" + str(out_next_game))"
   ]
  },
  {
   "cell_type": "code",
   "execution_count": null,
   "id": "1b6e3fad",
   "metadata": {},
   "outputs": [],
   "source": []
  },
  {
   "cell_type": "code",
   "execution_count": null,
   "id": "13bdc6ec",
   "metadata": {},
   "outputs": [],
   "source": [
    "plyr_box_stats_df.to_csv('Luka_Doncic_1629029_2021_22_game_logs.csv')"
   ]
  },
  {
   "cell_type": "code",
   "execution_count": null,
   "id": "96714bb5",
   "metadata": {},
   "outputs": [],
   "source": []
  },
  {
   "cell_type": "code",
   "execution_count": null,
   "id": "59225d4a",
   "metadata": {},
   "outputs": [],
   "source": []
  },
  {
   "cell_type": "code",
   "execution_count": null,
   "id": "a3b7e056",
   "metadata": {},
   "outputs": [],
   "source": []
  }
 ],
 "metadata": {
  "kernelspec": {
   "display_name": "Python 3 (ipykernel)",
   "language": "python",
   "name": "python3"
  },
  "language_info": {
   "codemirror_mode": {
    "name": "ipython",
    "version": 3
   },
   "file_extension": ".py",
   "mimetype": "text/x-python",
   "name": "python",
   "nbconvert_exporter": "python",
   "pygments_lexer": "ipython3",
   "version": "3.9.12"
  }
 },
 "nbformat": 4,
 "nbformat_minor": 5
}
